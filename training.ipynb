{
 "cells": [
  {
   "cell_type": "code",
   "execution_count": null,
   "id": "fde633b4",
   "metadata": {},
   "outputs": [],
   "source": [
    "# first create project folder inside google drive then mount"
   ]
  },
  {
   "cell_type": "code",
   "execution_count": null,
   "id": "e57f6a37",
   "metadata": {},
   "outputs": [],
   "source": [
    "from google.colab import drive\n",
    "drive.mount('/content/drive/MyDrive/COD-TF/')"
   ]
  },
  {
   "cell_type": "code",
   "execution_count": null,
   "id": "0f626fa7",
   "metadata": {},
   "outputs": [],
   "source": [
    "%cd /content/drive/MyDrive/COD-TF/"
   ]
  },
  {
   "cell_type": "code",
   "execution_count": null,
   "id": "3f0a3df3",
   "metadata": {},
   "outputs": [],
   "source": [
    "!pip install tensorflow==\"2.6.0\""
   ]
  },
  {
   "cell_type": "code",
   "execution_count": null,
   "id": "a2739707",
   "metadata": {},
   "outputs": [],
   "source": [
    "import os\n",
    "import pathlib\n",
    "\n",
    "# Clone the tensorflow models repository if it doesn't already exist\n",
    "if \"models\" in pathlib.Path.cwd().parts:\n",
    "  while \"models\" in pathlib.Path.cwd().parts:\n",
    "    os.chdir('..')\n",
    "elif not pathlib.Path('models').exists():\n",
    "  !git clone --depth 1 https://github.com/tensorflow/models"
   ]
  },
  {
   "cell_type": "code",
   "execution_count": null,
   "id": "104537bd",
   "metadata": {},
   "outputs": [],
   "source": [
    "# Install the Object Detection API\n",
    "%%bash\n",
    "cd models/research/\n",
    "protoc object_detection/protos/*.proto --python_out=.\n",
    "cp object_detection/packages/tf2/setup.py .\n",
    "python -m pip install ."
   ]
  },
  {
   "cell_type": "code",
   "execution_count": null,
   "id": "f7606e77",
   "metadata": {},
   "outputs": [],
   "source": [
    "#run model builder test\n",
    "!python /content/models/research/object_detection/builders/model_builder_tf2_test.py"
   ]
  },
  {
   "cell_type": "code",
   "execution_count": null,
   "id": "1c331acb",
   "metadata": {},
   "outputs": [],
   "source": [
    "batch_size = 16\n",
    "num_steps = 8000\n",
    "num_eval_steps = 1000"
   ]
  },
  {
   "cell_type": "code",
   "execution_count": null,
   "id": "53d66b3b",
   "metadata": {},
   "outputs": [],
   "source": [
    "# copy model folder from TF model zoo inside object_detection folder\n",
    "# and edit model config file inside training folder"
   ]
  },
  {
   "cell_type": "code",
   "execution_count": null,
   "id": "2cfc0a96",
   "metadata": {},
   "outputs": [],
   "source": [
    "!python /content/models/research/object_detection/model_main_tf2.py \\\n",
    "    --pipeline_config_path={pipeline_config_path} \\\n",
    "    --model_dir={model_dir} \\\n",
    "    --alsologtostderr \\\n",
    "    --num_train_steps={num_steps} \\\n",
    "    --sample_1_of_n_eval_examples=1 \\\n",
    "    --num_eval_steps={num_eval_steps}"
   ]
  },
  {
   "cell_type": "code",
   "execution_count": null,
   "id": "9cf757a0",
   "metadata": {},
   "outputs": [],
   "source": [
    "output_directory = 'inference_graph'\n",
    "\n",
    "!python /content/models/research/object_detection/exporter_main_v2.py \\\n",
    "    --trained_checkpoint_dir {model_dir} \\\n",
    "    --output_directory {output_directory} \\\n",
    "    --pipeline_config_path {pipeline_config_path}"
   ]
  }
 ],
 "metadata": {
  "kernelspec": {
   "display_name": "Python 3 (ipykernel)",
   "language": "python",
   "name": "python3"
  },
  "language_info": {
   "codemirror_mode": {
    "name": "ipython",
    "version": 3
   },
   "file_extension": ".py",
   "mimetype": "text/x-python",
   "name": "python",
   "nbconvert_exporter": "python",
   "pygments_lexer": "ipython3",
   "version": "3.8.13"
  }
 },
 "nbformat": 4,
 "nbformat_minor": 5
}
